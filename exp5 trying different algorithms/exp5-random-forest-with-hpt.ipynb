{
 "cells": [
  {
   "cell_type": "code",
   "execution_count": 1,
   "metadata": {},
   "outputs": [],
   "source": [
    "import pandas as pd\n",
    "import numpy as np"
   ]
  },
  {
   "cell_type": "code",
   "execution_count": 2,
   "metadata": {},
   "outputs": [
    {
     "data": {
      "text/html": [
       "<div>\n",
       "<style scoped>\n",
       "    .dataframe tbody tr th:only-of-type {\n",
       "        vertical-align: middle;\n",
       "    }\n",
       "\n",
       "    .dataframe tbody tr th {\n",
       "        vertical-align: top;\n",
       "    }\n",
       "\n",
       "    .dataframe thead th {\n",
       "        text-align: right;\n",
       "    }\n",
       "</style>\n",
       "<table border=\"1\" class=\"dataframe\">\n",
       "  <thead>\n",
       "    <tr style=\"text-align: right;\">\n",
       "      <th></th>\n",
       "      <th>Unnamed: 0</th>\n",
       "      <th>clean_comment</th>\n",
       "      <th>category</th>\n",
       "    </tr>\n",
       "  </thead>\n",
       "  <tbody>\n",
       "    <tr>\n",
       "      <th>0</th>\n",
       "      <td>0</td>\n",
       "      <td>family mormon never tried explain still stare ...</td>\n",
       "      <td>1</td>\n",
       "    </tr>\n",
       "    <tr>\n",
       "      <th>1</th>\n",
       "      <td>1</td>\n",
       "      <td>buddhism much lot compatible christianity espe...</td>\n",
       "      <td>1</td>\n",
       "    </tr>\n",
       "    <tr>\n",
       "      <th>2</th>\n",
       "      <td>2</td>\n",
       "      <td>seriously say thing first get complex explain ...</td>\n",
       "      <td>-1</td>\n",
       "    </tr>\n",
       "    <tr>\n",
       "      <th>3</th>\n",
       "      <td>3</td>\n",
       "      <td>learned want teach different focus goal not wr...</td>\n",
       "      <td>0</td>\n",
       "    </tr>\n",
       "    <tr>\n",
       "      <th>4</th>\n",
       "      <td>4</td>\n",
       "      <td>benefit may want read living buddha living chr...</td>\n",
       "      <td>1</td>\n",
       "    </tr>\n",
       "    <tr>\n",
       "      <th>...</th>\n",
       "      <td>...</td>\n",
       "      <td>...</td>\n",
       "      <td>...</td>\n",
       "    </tr>\n",
       "    <tr>\n",
       "      <th>36241</th>\n",
       "      <td>37243</td>\n",
       "      <td>agree push make nation either pity pakistan in...</td>\n",
       "      <td>-1</td>\n",
       "    </tr>\n",
       "    <tr>\n",
       "      <th>36242</th>\n",
       "      <td>37244</td>\n",
       "      <td>jesus</td>\n",
       "      <td>0</td>\n",
       "    </tr>\n",
       "    <tr>\n",
       "      <th>36243</th>\n",
       "      <td>37245</td>\n",
       "      <td>kya bhai pure saal chutiya banaya modi aur jab...</td>\n",
       "      <td>1</td>\n",
       "    </tr>\n",
       "    <tr>\n",
       "      <th>36244</th>\n",
       "      <td>37246</td>\n",
       "      <td>downvote karna tha par upvote hogaya</td>\n",
       "      <td>0</td>\n",
       "    </tr>\n",
       "    <tr>\n",
       "      <th>36245</th>\n",
       "      <td>37248</td>\n",
       "      <td>facebook working bjp cell</td>\n",
       "      <td>0</td>\n",
       "    </tr>\n",
       "  </tbody>\n",
       "</table>\n",
       "<p>36246 rows × 3 columns</p>\n",
       "</div>"
      ],
      "text/plain": [
       "       Unnamed: 0                                      clean_comment  category\n",
       "0               0  family mormon never tried explain still stare ...         1\n",
       "1               1  buddhism much lot compatible christianity espe...         1\n",
       "2               2  seriously say thing first get complex explain ...        -1\n",
       "3               3  learned want teach different focus goal not wr...         0\n",
       "4               4  benefit may want read living buddha living chr...         1\n",
       "...           ...                                                ...       ...\n",
       "36241       37243  agree push make nation either pity pakistan in...        -1\n",
       "36242       37244                                              jesus         0\n",
       "36243       37245  kya bhai pure saal chutiya banaya modi aur jab...         1\n",
       "36244       37246               downvote karna tha par upvote hogaya         0\n",
       "36245       37248                          facebook working bjp cell         0\n",
       "\n",
       "[36246 rows x 3 columns]"
      ]
     },
     "execution_count": 2,
     "metadata": {},
     "output_type": "execute_result"
    }
   ],
   "source": [
    "df = pd.read_csv(\"processed.csv\")\n",
    "df"
   ]
  },
  {
   "cell_type": "code",
   "execution_count": 3,
   "metadata": {},
   "outputs": [],
   "source": [
    "df.dropna(inplace=True)"
   ]
  },
  {
   "cell_type": "code",
   "execution_count": 4,
   "metadata": {},
   "outputs": [
    {
     "data": {
      "text/html": [
       "<pre style=\"white-space:pre;overflow-x:auto;line-height:normal;font-family:Menlo,'DejaVu Sans Mono',consolas,'Courier New',monospace\">Accessing as rajatchauhan99\n",
       "</pre>\n"
      ],
      "text/plain": [
       "Accessing as rajatchauhan99\n"
      ]
     },
     "metadata": {},
     "output_type": "display_data"
    },
    {
     "data": {
      "text/html": [
       "<pre style=\"white-space:pre;overflow-x:auto;line-height:normal;font-family:Menlo,'DejaVu Sans Mono',consolas,'Courier New',monospace\">Initialized MLflow to track repo <span style=\"color: #008000; text-decoration-color: #008000\">\"rajatchauhan99/Youtube-Comment-Analysis-Chrome-Plugin\"</span>\n",
       "</pre>\n"
      ],
      "text/plain": [
       "Initialized MLflow to track repo \u001b[32m\"rajatchauhan99/Youtube-Comment-Analysis-Chrome-Plugin\"\u001b[0m\n"
      ]
     },
     "metadata": {},
     "output_type": "display_data"
    },
    {
     "data": {
      "text/html": [
       "<pre style=\"white-space:pre;overflow-x:auto;line-height:normal;font-family:Menlo,'DejaVu Sans Mono',consolas,'Courier New',monospace\">Repository rajatchauhan99/Youtube-Comment-Analysis-Chrome-Plugin initialized!\n",
       "</pre>\n"
      ],
      "text/plain": [
       "Repository rajatchauhan99/Youtube-Comment-Analysis-Chrome-Plugin initialized!\n"
      ]
     },
     "metadata": {},
     "output_type": "display_data"
    }
   ],
   "source": [
    "import dagshub\n",
    "dagshub.init(repo_owner='rajatchauhan99', repo_name='Youtube-Comment-Analysis-Chrome-Plugin', mlflow=True)"
   ]
  },
  {
   "cell_type": "code",
   "execution_count": 5,
   "metadata": {},
   "outputs": [
    {
     "data": {
      "text/plain": [
       "<Experiment: artifact_location='mlflow-artifacts:/96c047f2f48c4d168382939725e408d8', creation_time=1729342817379, experiment_id='5', last_update_time=1729342817379, lifecycle_stage='active', name='Exp 5 - Trying Different ML Algos with HP Tuning', tags={}>"
      ]
     },
     "execution_count": 5,
     "metadata": {},
     "output_type": "execute_result"
    }
   ],
   "source": [
    "# Set or create an experiment\n",
    "import mlflow\n",
    "mlflow.set_experiment(\"Exp 5 - Trying Different ML Algos with HP Tuning\")"
   ]
  },
  {
   "cell_type": "code",
   "execution_count": 6,
   "metadata": {},
   "outputs": [
    {
     "name": "stderr",
     "output_type": "stream",
     "text": [
      "c:\\Users\\rajat.chauhan\\conda\\Lib\\site-packages\\tqdm\\auto.py:21: TqdmWarning: IProgress not found. Please update jupyter and ipywidgets. See https://ipywidgets.readthedocs.io/en/stable/user_install.html\n",
      "  from .autonotebook import tqdm as notebook_tqdm\n"
     ]
    }
   ],
   "source": [
    "import optuna\n",
    "import mlflow\n",
    "import mlflow.sklearn\n",
    "from sklearn.model_selection import train_test_split\n",
    "from sklearn.metrics import accuracy_score, classification_report\n",
    "from sklearn.feature_extraction.text import TfidfVectorizer\n",
    "from sklearn.linear_model import LogisticRegression\n",
    "from sklearn.svm import SVC\n",
    "from xgboost import XGBClassifier\n",
    "from lightgbm import LGBMClassifier\n",
    "from sklearn.neighbors import KNeighborsClassifier\n",
    "from sklearn.naive_bayes import MultinomialNB\n",
    "from sklearn.ensemble import RandomForestClassifier\n",
    "from imblearn.over_sampling import SMOTE\n",
    "import matplotlib.pyplot as plt\n",
    "import seaborn as sns\n",
    "import pandas as pd"
   ]
  },
  {
   "cell_type": "code",
   "execution_count": 7,
   "metadata": {},
   "outputs": [
    {
     "name": "stderr",
     "output_type": "stream",
     "text": [
      "[I 2024-10-19 18:42:11,458] A new study created in memory with name: no-name-460093de-31bc-44dc-b27f-5a3acde6cdec\n",
      "[I 2024-10-19 18:42:32,620] Trial 0 finished with value: 0.6920212765957446 and parameters: {'n_estimators': 142, 'max_depth': 19, 'min_samples_split': 9, 'min_samples_leaf': 17}. Best is trial 0 with value: 0.6920212765957446.\n",
      "[I 2024-10-19 18:42:57,224] Trial 1 finished with value: 0.6940425531914893 and parameters: {'n_estimators': 146, 'max_depth': 19, 'min_samples_split': 10, 'min_samples_leaf': 19}. Best is trial 1 with value: 0.6940425531914893.\n",
      "[I 2024-10-19 18:43:11,873] Trial 2 finished with value: 0.7053191489361702 and parameters: {'n_estimators': 62, 'max_depth': 18, 'min_samples_split': 13, 'min_samples_leaf': 1}. Best is trial 2 with value: 0.7053191489361702.\n",
      "[I 2024-10-19 18:43:22,616] Trial 3 finished with value: 0.6458510638297872 and parameters: {'n_estimators': 126, 'max_depth': 7, 'min_samples_split': 14, 'min_samples_leaf': 6}. Best is trial 2 with value: 0.7053191489361702.\n",
      "[I 2024-10-19 18:43:39,388] Trial 4 finished with value: 0.6634042553191489 and parameters: {'n_estimators': 175, 'max_depth': 9, 'min_samples_split': 20, 'min_samples_leaf': 5}. Best is trial 2 with value: 0.7053191489361702.\n",
      "[I 2024-10-19 18:43:56,025] Trial 5 finished with value: 0.6688297872340425 and parameters: {'n_estimators': 162, 'max_depth': 10, 'min_samples_split': 10, 'min_samples_leaf': 3}. Best is trial 2 with value: 0.7053191489361702.\n",
      "[I 2024-10-19 18:44:00,950] Trial 6 finished with value: 0.6385106382978724 and parameters: {'n_estimators': 71, 'max_depth': 7, 'min_samples_split': 19, 'min_samples_leaf': 7}. Best is trial 2 with value: 0.7053191489361702.\n",
      "[I 2024-10-19 18:44:27,364] Trial 7 finished with value: 0.6856382978723404 and parameters: {'n_estimators': 144, 'max_depth': 14, 'min_samples_split': 10, 'min_samples_leaf': 6}. Best is trial 2 with value: 0.7053191489361702.\n",
      "[I 2024-10-19 18:44:42,499] Trial 8 finished with value: 0.6806382978723404 and parameters: {'n_estimators': 138, 'max_depth': 13, 'min_samples_split': 11, 'min_samples_leaf': 11}. Best is trial 2 with value: 0.7053191489361702.\n",
      "[I 2024-10-19 18:44:46,697] Trial 9 finished with value: 0.6361702127659574 and parameters: {'n_estimators': 66, 'max_depth': 7, 'min_samples_split': 13, 'min_samples_leaf': 17}. Best is trial 2 with value: 0.7053191489361702.\n",
      "[I 2024-10-19 18:45:39,014] Trial 10 finished with value: 0.7001063829787234 and parameters: {'n_estimators': 250, 'max_depth': 16, 'min_samples_split': 2, 'min_samples_leaf': 1}. Best is trial 2 with value: 0.7053191489361702.\n",
      "[I 2024-10-19 18:46:28,961] Trial 11 finished with value: 0.7006382978723404 and parameters: {'n_estimators': 254, 'max_depth': 16, 'min_samples_split': 2, 'min_samples_leaf': 1}. Best is trial 2 with value: 0.7053191489361702.\n",
      "[I 2024-10-19 18:46:33,353] Trial 12 finished with value: 0.6156382978723405 and parameters: {'n_estimators': 287, 'max_depth': 3, 'min_samples_split': 2, 'min_samples_leaf': 11}. Best is trial 2 with value: 0.7053191489361702.\n",
      "[I 2024-10-19 18:47:00,473] Trial 13 finished with value: 0.6980851063829787 and parameters: {'n_estimators': 225, 'max_depth': 16, 'min_samples_split': 6, 'min_samples_leaf': 1}. Best is trial 2 with value: 0.7053191489361702.\n",
      "[I 2024-10-19 18:47:45,430] Trial 14 finished with value: 0.7009574468085107 and parameters: {'n_estimators': 222, 'max_depth': 20, 'min_samples_split': 15, 'min_samples_leaf': 9}. Best is trial 2 with value: 0.7053191489361702.\n",
      "[I 2024-10-19 18:48:22,368] Trial 15 finished with value: 0.6975531914893617 and parameters: {'n_estimators': 206, 'max_depth': 20, 'min_samples_split': 16, 'min_samples_leaf': 14}. Best is trial 2 with value: 0.7053191489361702.\n",
      "[I 2024-10-19 18:48:38,313] Trial 16 finished with value: 0.6961702127659575 and parameters: {'n_estimators': 93, 'max_depth': 18, 'min_samples_split': 17, 'min_samples_leaf': 9}. Best is trial 2 with value: 0.7053191489361702.\n",
      "[I 2024-10-19 18:48:54,331] Trial 17 finished with value: 0.6893617021276596 and parameters: {'n_estimators': 112, 'max_depth': 17, 'min_samples_split': 14, 'min_samples_leaf': 13}. Best is trial 2 with value: 0.7053191489361702.\n",
      "[I 2024-10-19 18:49:20,982] Trial 18 finished with value: 0.6820212765957446 and parameters: {'n_estimators': 201, 'max_depth': 14, 'min_samples_split': 7, 'min_samples_leaf': 9}. Best is trial 2 with value: 0.7053191489361702.\n",
      "[I 2024-10-19 18:49:31,177] Trial 19 finished with value: 0.7011702127659575 and parameters: {'n_estimators': 54, 'max_depth': 20, 'min_samples_split': 16, 'min_samples_leaf': 4}. Best is trial 2 with value: 0.7053191489361702.\n",
      "[I 2024-10-19 18:49:38,009] Trial 20 finished with value: 0.6714893617021277 and parameters: {'n_estimators': 54, 'max_depth': 12, 'min_samples_split': 18, 'min_samples_leaf': 4}. Best is trial 2 with value: 0.7053191489361702.\n",
      "[I 2024-10-19 18:50:02,125] Trial 21 finished with value: 0.7076595744680851 and parameters: {'n_estimators': 101, 'max_depth': 20, 'min_samples_split': 15, 'min_samples_leaf': 3}. Best is trial 21 with value: 0.7076595744680851.\n",
      "[I 2024-10-19 18:50:20,787] Trial 22 finished with value: 0.7036170212765958 and parameters: {'n_estimators': 89, 'max_depth': 18, 'min_samples_split': 13, 'min_samples_leaf': 3}. Best is trial 21 with value: 0.7076595744680851.\n",
      "[I 2024-10-19 18:50:38,848] Trial 23 finished with value: 0.6959574468085107 and parameters: {'n_estimators': 94, 'max_depth': 17, 'min_samples_split': 12, 'min_samples_leaf': 3}. Best is trial 21 with value: 0.7076595744680851.\n",
      "[I 2024-10-19 18:50:56,637] Trial 24 finished with value: 0.7046808510638298 and parameters: {'n_estimators': 88, 'max_depth': 18, 'min_samples_split': 13, 'min_samples_leaf': 2}. Best is trial 21 with value: 0.7076595744680851.\n",
      "[I 2024-10-19 18:51:16,642] Trial 25 finished with value: 0.6924468085106383 and parameters: {'n_estimators': 111, 'max_depth': 15, 'min_samples_split': 7, 'min_samples_leaf': 2}. Best is trial 21 with value: 0.7076595744680851.\n",
      "[I 2024-10-19 18:51:31,823] Trial 26 finished with value: 0.7004255319148937 and parameters: {'n_estimators': 80, 'max_depth': 19, 'min_samples_split': 12, 'min_samples_leaf': 7}. Best is trial 21 with value: 0.7076595744680851.\n",
      "[I 2024-10-19 18:51:52,527] Trial 27 finished with value: 0.6990425531914893 and parameters: {'n_estimators': 115, 'max_depth': 18, 'min_samples_split': 16, 'min_samples_leaf': 5}. Best is trial 21 with value: 0.7076595744680851.\n",
      "[I 2024-10-19 18:52:13,446] Trial 28 finished with value: 0.7 and parameters: {'n_estimators': 102, 'max_depth': 17, 'min_samples_split': 14, 'min_samples_leaf': 2}. Best is trial 21 with value: 0.7076595744680851.\n",
      "[I 2024-10-19 18:52:30,088] Trial 29 finished with value: 0.7073404255319149 and parameters: {'n_estimators': 71, 'max_depth': 19, 'min_samples_split': 8, 'min_samples_leaf': 1}. Best is trial 21 with value: 0.7076595744680851.\n",
      "2024/10/19 18:53:55 WARNING mlflow.models.model: Model logged without a signature and input example. Please set `input_example` parameter when logging the model to auto infer the model signature.\n",
      "2024/10/19 18:54:26 INFO mlflow.tracking._tracking_service.client: 🏃 View run RandomForest_SMOTE_TFIDF_Trigrams at: https://dagshub.com/rajatchauhan99/Youtube-Comment-Analysis-Chrome-Plugin.mlflow/#/experiments/5/runs/cc6110f7c7f0492596d4a23811f7dd52.\n",
      "2024/10/19 18:54:26 INFO mlflow.tracking._tracking_service.client: 🧪 View experiment at: https://dagshub.com/rajatchauhan99/Youtube-Comment-Analysis-Chrome-Plugin.mlflow/#/experiments/5.\n"
     ]
    }
   ],
   "source": [
    "# Step 1: (Optional) Remapping - skipped since not strictly needed for Random Forest\n",
    "\n",
    "# Step 2: Remove rows where the target labels (category) are NaN\n",
    "df = df.dropna(subset=['category'])\n",
    "\n",
    "# Step 3: TF-IDF vectorizer setup\n",
    "ngram_range = (1, 3)  # Trigram\n",
    "max_features = 1000  # Set max_features to 1000\n",
    "vectorizer = TfidfVectorizer(ngram_range=ngram_range, max_features=max_features)\n",
    "X = vectorizer.fit_transform(df['clean_comment'])\n",
    "y = df['category']\n",
    "\n",
    "# Step 4: Apply SMOTE to handle class imbalance\n",
    "smote = SMOTE(random_state=42)\n",
    "X_resampled, y_resampled = smote.fit_resample(X, y)\n",
    "\n",
    "# Step 5: Train-test split\n",
    "X_train, X_test, y_train, y_test = train_test_split(X_resampled, y_resampled, test_size=0.2, random_state=42, stratify=y_resampled)\n",
    "\n",
    "# Function to log results in MLflow\n",
    "def log_mlflow(model_name, model, X_train, X_test, y_train, y_test):\n",
    "    with mlflow.start_run():\n",
    "        # Log model type\n",
    "        mlflow.set_tag(\"mlflow.runName\", f\"{model_name}_SMOTE_TFIDF_Trigrams\")\n",
    "        mlflow.set_tag(\"experiment_type\", \"algorithm_comparison\")\n",
    "\n",
    "        # Log algorithm name as a parameter\n",
    "        mlflow.log_param(\"algo_name\", model_name)\n",
    "\n",
    "        # Train model\n",
    "        model.fit(X_train, y_train)\n",
    "        y_pred = model.predict(X_test)\n",
    "\n",
    "        # Log accuracy\n",
    "        accuracy = accuracy_score(y_test, y_pred)\n",
    "        mlflow.log_metric(\"accuracy\", accuracy)\n",
    "\n",
    "        # Log classification report\n",
    "        classification_rep = classification_report(y_test, y_pred, output_dict=True)\n",
    "        for label, metrics in classification_rep.items():\n",
    "            if isinstance(metrics, dict):\n",
    "                for metric, value in metrics.items():\n",
    "                    mlflow.log_metric(f\"{label}_{metric}\", value)\n",
    "\n",
    "        # Log the model\n",
    "        mlflow.sklearn.log_model(model, f\"{model_name}_model\")\n",
    "\n",
    "\n",
    "# Step 6: Optuna objective function for Random Forest\n",
    "def objective_rf(trial):\n",
    "    n_estimators = trial.suggest_int('n_estimators', 50, 300)  # Number of trees in the forest\n",
    "    max_depth = trial.suggest_int('max_depth', 3, 20)  # Maximum depth of the tree\n",
    "    min_samples_split = trial.suggest_int('min_samples_split', 2, 20)  # Minimum samples required to split a node\n",
    "    min_samples_leaf = trial.suggest_int('min_samples_leaf', 1, 20)  # Minimum samples required at a leaf node\n",
    "\n",
    "    # RandomForestClassifier setup\n",
    "    model = RandomForestClassifier(n_estimators=n_estimators, max_depth=max_depth,\n",
    "                                   min_samples_split=min_samples_split, min_samples_leaf=min_samples_leaf,\n",
    "                                   random_state=42)\n",
    "    return accuracy_score(y_test, model.fit(X_train, y_train).predict(X_test))\n",
    "\n",
    "\n",
    "# Step 7: Run Optuna for Random Forest, log the best model only\n",
    "def run_optuna_experiment():\n",
    "    study = optuna.create_study(direction=\"maximize\")\n",
    "    study.optimize(objective_rf, n_trials=30)\n",
    "\n",
    "    # Get the best parameters and log only the best model\n",
    "    best_params = study.best_params\n",
    "    best_model = RandomForestClassifier(n_estimators=best_params['n_estimators'],\n",
    "                                        max_depth=best_params['max_depth'],\n",
    "                                        min_samples_split=best_params['min_samples_split'],\n",
    "                                        min_samples_leaf=best_params['min_samples_leaf'],\n",
    "                                        random_state=42)\n",
    "\n",
    "    # Log the best model with MLflow, passing the algo_name as \"RandomForest\"\n",
    "    log_mlflow(\"RandomForest\", best_model, X_train, X_test, y_train, y_test)\n",
    "\n",
    "# Run the experiment for Random Forest\n",
    "run_optuna_experiment()\n"
   ]
  },
  {
   "cell_type": "code",
   "execution_count": null,
   "metadata": {},
   "outputs": [],
   "source": []
  },
  {
   "cell_type": "code",
   "execution_count": null,
   "metadata": {},
   "outputs": [],
   "source": []
  }
 ],
 "metadata": {
  "kernelspec": {
   "display_name": "base",
   "language": "python",
   "name": "python3"
  },
  "language_info": {
   "codemirror_mode": {
    "name": "ipython",
    "version": 3
   },
   "file_extension": ".py",
   "mimetype": "text/x-python",
   "name": "python",
   "nbconvert_exporter": "python",
   "pygments_lexer": "ipython3",
   "version": "3.12.5"
  }
 },
 "nbformat": 4,
 "nbformat_minor": 2
}
