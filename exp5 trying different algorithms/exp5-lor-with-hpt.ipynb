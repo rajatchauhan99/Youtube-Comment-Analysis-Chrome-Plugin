{
 "cells": [
  {
   "cell_type": "code",
   "execution_count": 1,
   "metadata": {},
   "outputs": [],
   "source": [
    "import pandas as pd\n",
    "import numpy as np"
   ]
  },
  {
   "cell_type": "code",
   "execution_count": 2,
   "metadata": {},
   "outputs": [
    {
     "data": {
      "text/html": [
       "<div>\n",
       "<style scoped>\n",
       "    .dataframe tbody tr th:only-of-type {\n",
       "        vertical-align: middle;\n",
       "    }\n",
       "\n",
       "    .dataframe tbody tr th {\n",
       "        vertical-align: top;\n",
       "    }\n",
       "\n",
       "    .dataframe thead th {\n",
       "        text-align: right;\n",
       "    }\n",
       "</style>\n",
       "<table border=\"1\" class=\"dataframe\">\n",
       "  <thead>\n",
       "    <tr style=\"text-align: right;\">\n",
       "      <th></th>\n",
       "      <th>Unnamed: 0</th>\n",
       "      <th>clean_comment</th>\n",
       "      <th>category</th>\n",
       "    </tr>\n",
       "  </thead>\n",
       "  <tbody>\n",
       "    <tr>\n",
       "      <th>0</th>\n",
       "      <td>0</td>\n",
       "      <td>family mormon never tried explain still stare ...</td>\n",
       "      <td>1</td>\n",
       "    </tr>\n",
       "    <tr>\n",
       "      <th>1</th>\n",
       "      <td>1</td>\n",
       "      <td>buddhism much lot compatible christianity espe...</td>\n",
       "      <td>1</td>\n",
       "    </tr>\n",
       "    <tr>\n",
       "      <th>2</th>\n",
       "      <td>2</td>\n",
       "      <td>seriously say thing first get complex explain ...</td>\n",
       "      <td>-1</td>\n",
       "    </tr>\n",
       "    <tr>\n",
       "      <th>3</th>\n",
       "      <td>3</td>\n",
       "      <td>learned want teach different focus goal not wr...</td>\n",
       "      <td>0</td>\n",
       "    </tr>\n",
       "    <tr>\n",
       "      <th>4</th>\n",
       "      <td>4</td>\n",
       "      <td>benefit may want read living buddha living chr...</td>\n",
       "      <td>1</td>\n",
       "    </tr>\n",
       "    <tr>\n",
       "      <th>...</th>\n",
       "      <td>...</td>\n",
       "      <td>...</td>\n",
       "      <td>...</td>\n",
       "    </tr>\n",
       "    <tr>\n",
       "      <th>36241</th>\n",
       "      <td>37243</td>\n",
       "      <td>agree push make nation either pity pakistan in...</td>\n",
       "      <td>-1</td>\n",
       "    </tr>\n",
       "    <tr>\n",
       "      <th>36242</th>\n",
       "      <td>37244</td>\n",
       "      <td>jesus</td>\n",
       "      <td>0</td>\n",
       "    </tr>\n",
       "    <tr>\n",
       "      <th>36243</th>\n",
       "      <td>37245</td>\n",
       "      <td>kya bhai pure saal chutiya banaya modi aur jab...</td>\n",
       "      <td>1</td>\n",
       "    </tr>\n",
       "    <tr>\n",
       "      <th>36244</th>\n",
       "      <td>37246</td>\n",
       "      <td>downvote karna tha par upvote hogaya</td>\n",
       "      <td>0</td>\n",
       "    </tr>\n",
       "    <tr>\n",
       "      <th>36245</th>\n",
       "      <td>37248</td>\n",
       "      <td>facebook working bjp cell</td>\n",
       "      <td>0</td>\n",
       "    </tr>\n",
       "  </tbody>\n",
       "</table>\n",
       "<p>36246 rows × 3 columns</p>\n",
       "</div>"
      ],
      "text/plain": [
       "       Unnamed: 0                                      clean_comment  category\n",
       "0               0  family mormon never tried explain still stare ...         1\n",
       "1               1  buddhism much lot compatible christianity espe...         1\n",
       "2               2  seriously say thing first get complex explain ...        -1\n",
       "3               3  learned want teach different focus goal not wr...         0\n",
       "4               4  benefit may want read living buddha living chr...         1\n",
       "...           ...                                                ...       ...\n",
       "36241       37243  agree push make nation either pity pakistan in...        -1\n",
       "36242       37244                                              jesus         0\n",
       "36243       37245  kya bhai pure saal chutiya banaya modi aur jab...         1\n",
       "36244       37246               downvote karna tha par upvote hogaya         0\n",
       "36245       37248                          facebook working bjp cell         0\n",
       "\n",
       "[36246 rows x 3 columns]"
      ]
     },
     "execution_count": 2,
     "metadata": {},
     "output_type": "execute_result"
    }
   ],
   "source": [
    "df = pd.read_csv(\"processed.csv\")\n",
    "df"
   ]
  },
  {
   "cell_type": "code",
   "execution_count": 3,
   "metadata": {},
   "outputs": [],
   "source": [
    "df.dropna(inplace=True)"
   ]
  },
  {
   "cell_type": "code",
   "execution_count": 4,
   "metadata": {},
   "outputs": [
    {
     "data": {
      "text/html": [
       "<pre style=\"white-space:pre;overflow-x:auto;line-height:normal;font-family:Menlo,'DejaVu Sans Mono',consolas,'Courier New',monospace\">Accessing as rajatchauhan99\n",
       "</pre>\n"
      ],
      "text/plain": [
       "Accessing as rajatchauhan99\n"
      ]
     },
     "metadata": {},
     "output_type": "display_data"
    },
    {
     "data": {
      "text/html": [
       "<pre style=\"white-space:pre;overflow-x:auto;line-height:normal;font-family:Menlo,'DejaVu Sans Mono',consolas,'Courier New',monospace\">Initialized MLflow to track repo <span style=\"color: #008000; text-decoration-color: #008000\">\"rajatchauhan99/Youtube-Comment-Analysis-Chrome-Plugin\"</span>\n",
       "</pre>\n"
      ],
      "text/plain": [
       "Initialized MLflow to track repo \u001b[32m\"rajatchauhan99/Youtube-Comment-Analysis-Chrome-Plugin\"\u001b[0m\n"
      ]
     },
     "metadata": {},
     "output_type": "display_data"
    },
    {
     "data": {
      "text/html": [
       "<pre style=\"white-space:pre;overflow-x:auto;line-height:normal;font-family:Menlo,'DejaVu Sans Mono',consolas,'Courier New',monospace\">Repository rajatchauhan99/Youtube-Comment-Analysis-Chrome-Plugin initialized!\n",
       "</pre>\n"
      ],
      "text/plain": [
       "Repository rajatchauhan99/Youtube-Comment-Analysis-Chrome-Plugin initialized!\n"
      ]
     },
     "metadata": {},
     "output_type": "display_data"
    }
   ],
   "source": [
    "import dagshub\n",
    "dagshub.init(repo_owner='rajatchauhan99', repo_name='Youtube-Comment-Analysis-Chrome-Plugin', mlflow=True)"
   ]
  },
  {
   "cell_type": "code",
   "execution_count": 5,
   "metadata": {},
   "outputs": [
    {
     "data": {
      "text/plain": [
       "<Experiment: artifact_location='mlflow-artifacts:/96c047f2f48c4d168382939725e408d8', creation_time=1729342817379, experiment_id='5', last_update_time=1729342817379, lifecycle_stage='active', name='Exp 5 - Trying Different ML Algos with HP Tuning', tags={}>"
      ]
     },
     "execution_count": 5,
     "metadata": {},
     "output_type": "execute_result"
    }
   ],
   "source": [
    "# Set or create an experiment\n",
    "import mlflow\n",
    "mlflow.set_experiment(\"Exp 5 - Trying Different ML Algos with HP Tuning\")"
   ]
  },
  {
   "cell_type": "code",
   "execution_count": 6,
   "metadata": {},
   "outputs": [
    {
     "name": "stderr",
     "output_type": "stream",
     "text": [
      "c:\\Users\\rajat.chauhan\\conda\\Lib\\site-packages\\tqdm\\auto.py:21: TqdmWarning: IProgress not found. Please update jupyter and ipywidgets. See https://ipywidgets.readthedocs.io/en/stable/user_install.html\n",
      "  from .autonotebook import tqdm as notebook_tqdm\n"
     ]
    }
   ],
   "source": [
    "import optuna\n",
    "import mlflow\n",
    "import mlflow.sklearn\n",
    "from sklearn.model_selection import train_test_split\n",
    "from sklearn.metrics import accuracy_score, classification_report\n",
    "from sklearn.feature_extraction.text import TfidfVectorizer\n",
    "from sklearn.linear_model import LogisticRegression\n",
    "from sklearn.svm import SVC\n",
    "from xgboost import XGBClassifier\n",
    "from lightgbm import LGBMClassifier\n",
    "from sklearn.neighbors import KNeighborsClassifier\n",
    "from sklearn.naive_bayes import MultinomialNB\n",
    "from sklearn.ensemble import RandomForestClassifier\n",
    "from imblearn.over_sampling import SMOTE\n",
    "import matplotlib.pyplot as plt\n",
    "import seaborn as sns\n",
    "import pandas as pd"
   ]
  },
  {
   "cell_type": "code",
   "execution_count": 7,
   "metadata": {},
   "outputs": [
    {
     "name": "stderr",
     "output_type": "stream",
     "text": [
      "[I 2024-10-19 18:35:49,240] A new study created in memory with name: no-name-44258287-e8ea-4f08-b07c-0d1413e8ccad\n",
      "[I 2024-10-19 18:35:50,583] Trial 0 finished with value: 0.7735106382978724 and parameters: {'C': 2.8776456937431782, 'penalty': 'l1'}. Best is trial 0 with value: 0.7735106382978724.\n",
      "[I 2024-10-19 18:35:51,129] Trial 1 finished with value: 0.6534042553191489 and parameters: {'C': 0.0050917247375884015, 'penalty': 'l2'}. Best is trial 0 with value: 0.7735106382978724.\n",
      "[I 2024-10-19 18:35:52,436] Trial 2 finished with value: 0.7451063829787234 and parameters: {'C': 0.3313837540545695, 'penalty': 'l2'}. Best is trial 0 with value: 0.7735106382978724.\n",
      "[I 2024-10-19 18:35:55,000] Trial 3 finished with value: 0.7664893617021277 and parameters: {'C': 9.589783829847857, 'penalty': 'l2'}. Best is trial 0 with value: 0.7735106382978724.\n",
      "[I 2024-10-19 18:35:55,216] Trial 4 finished with value: 0.4541489361702128 and parameters: {'C': 0.007595670371643654, 'penalty': 'l1'}. Best is trial 0 with value: 0.7735106382978724.\n",
      "[I 2024-10-19 18:35:55,391] Trial 5 finished with value: 0.3332978723404255 and parameters: {'C': 0.000798306013817375, 'penalty': 'l1'}. Best is trial 0 with value: 0.7735106382978724.\n",
      "[I 2024-10-19 18:35:55,729] Trial 6 finished with value: 0.6147872340425532 and parameters: {'C': 0.00010335918240585404, 'penalty': 'l2'}. Best is trial 0 with value: 0.7735106382978724.\n",
      "[I 2024-10-19 18:35:56,235] Trial 7 finished with value: 0.7447872340425532 and parameters: {'C': 0.12627577232004408, 'penalty': 'l1'}. Best is trial 0 with value: 0.7735106382978724.\n",
      "[I 2024-10-19 18:35:56,673] Trial 8 finished with value: 0.6237234042553191 and parameters: {'C': 0.0001586761057510307, 'penalty': 'l2'}. Best is trial 0 with value: 0.7735106382978724.\n",
      "[I 2024-10-19 18:35:57,322] Trial 9 finished with value: 0.7714893617021277 and parameters: {'C': 0.478973452236174, 'penalty': 'l1'}. Best is trial 0 with value: 0.7735106382978724.\n",
      "[I 2024-10-19 18:35:58,479] Trial 10 finished with value: 0.7758510638297872 and parameters: {'C': 9.26041921024927, 'penalty': 'l1'}. Best is trial 10 with value: 0.7758510638297872.\n",
      "[I 2024-10-19 18:35:59,712] Trial 11 finished with value: 0.7752127659574468 and parameters: {'C': 7.265334497800743, 'penalty': 'l1'}. Best is trial 10 with value: 0.7758510638297872.\n",
      "[I 2024-10-19 18:36:00,827] Trial 12 finished with value: 0.7738297872340425 and parameters: {'C': 2.5071319484316206, 'penalty': 'l1'}. Best is trial 10 with value: 0.7758510638297872.\n",
      "[I 2024-10-19 18:36:01,830] Trial 13 finished with value: 0.7757446808510639 and parameters: {'C': 9.985864140137888, 'penalty': 'l1'}. Best is trial 10 with value: 0.7758510638297872.\n",
      "[I 2024-10-19 18:36:02,802] Trial 14 finished with value: 0.7734042553191489 and parameters: {'C': 1.1529110670583753, 'penalty': 'l1'}. Best is trial 10 with value: 0.7758510638297872.\n",
      "[I 2024-10-19 18:36:03,335] Trial 15 finished with value: 0.6975531914893617 and parameters: {'C': 0.060283257156795333, 'penalty': 'l1'}. Best is trial 10 with value: 0.7758510638297872.\n",
      "[I 2024-10-19 18:36:03,632] Trial 16 finished with value: 0.5943617021276596 and parameters: {'C': 0.019544554656267497, 'penalty': 'l1'}. Best is trial 10 with value: 0.7758510638297872.\n",
      "[I 2024-10-19 18:36:04,357] Trial 17 finished with value: 0.7732978723404256 and parameters: {'C': 0.777563161594944, 'penalty': 'l1'}. Best is trial 10 with value: 0.7758510638297872.\n",
      "[I 2024-10-19 18:36:04,757] Trial 18 finished with value: 0.7574468085106383 and parameters: {'C': 0.18199747689580864, 'penalty': 'l1'}. Best is trial 10 with value: 0.7758510638297872.\n",
      "[I 2024-10-19 18:36:05,168] Trial 19 finished with value: 0.773936170212766 and parameters: {'C': 2.650710493848319, 'penalty': 'l1'}. Best is trial 10 with value: 0.7758510638297872.\n",
      "[I 2024-10-19 18:36:05,674] Trial 20 finished with value: 0.7751063829787234 and parameters: {'C': 6.150487140500524, 'penalty': 'l1'}. Best is trial 10 with value: 0.7758510638297872.\n",
      "[I 2024-10-19 18:36:06,204] Trial 21 finished with value: 0.7759574468085106 and parameters: {'C': 8.469695057677567, 'penalty': 'l1'}. Best is trial 21 with value: 0.7759574468085106.\n",
      "[I 2024-10-19 18:36:06,702] Trial 22 finished with value: 0.7738297872340425 and parameters: {'C': 1.6257779861316777, 'penalty': 'l1'}. Best is trial 21 with value: 0.7759574468085106.\n",
      "[I 2024-10-19 18:36:07,269] Trial 23 finished with value: 0.7757446808510639 and parameters: {'C': 8.285399897834912, 'penalty': 'l1'}. Best is trial 21 with value: 0.7759574468085106.\n",
      "[I 2024-10-19 18:36:07,789] Trial 24 finished with value: 0.7736170212765957 and parameters: {'C': 3.0293219821220863, 'penalty': 'l1'}. Best is trial 21 with value: 0.7759574468085106.\n",
      "[I 2024-10-19 18:36:08,253] Trial 25 finished with value: 0.7743617021276595 and parameters: {'C': 0.9627860595819215, 'penalty': 'l1'}. Best is trial 21 with value: 0.7759574468085106.\n",
      "[I 2024-10-19 18:36:09,357] Trial 26 finished with value: 0.7637234042553191 and parameters: {'C': 4.2988286686536945, 'penalty': 'l2'}. Best is trial 21 with value: 0.7759574468085106.\n",
      "[I 2024-10-19 18:36:09,715] Trial 27 finished with value: 0.7678723404255319 and parameters: {'C': 0.34747042630231284, 'penalty': 'l1'}. Best is trial 21 with value: 0.7759574468085106.\n",
      "[I 2024-10-19 18:36:09,802] Trial 28 finished with value: 0.3332978723404255 and parameters: {'C': 0.001538842880656002, 'penalty': 'l1'}. Best is trial 21 with value: 0.7759574468085106.\n",
      "[I 2024-10-19 18:36:10,242] Trial 29 finished with value: 0.7736170212765957 and parameters: {'C': 1.8220610782269338, 'penalty': 'l1'}. Best is trial 21 with value: 0.7759574468085106.\n",
      "2024/10/19 18:36:39 WARNING mlflow.models.model: Model logged without a signature and input example. Please set `input_example` parameter when logging the model to auto infer the model signature.\n",
      "2024/10/19 18:36:45 INFO mlflow.tracking._tracking_service.client: 🏃 View run LogisticRegression_SMOTE_TFIDF_Trigrams at: https://dagshub.com/rajatchauhan99/Youtube-Comment-Analysis-Chrome-Plugin.mlflow/#/experiments/5/runs/347e605cae0d4075b70d792ac104117d.\n",
      "2024/10/19 18:36:45 INFO mlflow.tracking._tracking_service.client: 🧪 View experiment at: https://dagshub.com/rajatchauhan99/Youtube-Comment-Analysis-Chrome-Plugin.mlflow/#/experiments/5.\n"
     ]
    }
   ],
   "source": [
    "# Step 1: (Optional) Remapping - skipped since not strictly needed for Logistic Regression\n",
    "\n",
    "# Step 2: Remove rows where the target labels (category) are NaN\n",
    "df = df.dropna(subset=['category'])\n",
    "\n",
    "# Step 3: TF-IDF vectorizer setup\n",
    "ngram_range = (1, 3)  # Trigram\n",
    "max_features = 1000  # Set max_features to 1000\n",
    "vectorizer = TfidfVectorizer(ngram_range=ngram_range, max_features=max_features)\n",
    "X = vectorizer.fit_transform(df['clean_comment'])\n",
    "y = df['category']\n",
    "\n",
    "# Step 4: Apply SMOTE to handle class imbalance\n",
    "smote = SMOTE(random_state=42)\n",
    "X_resampled, y_resampled = smote.fit_resample(X, y)\n",
    "\n",
    "# Step 5: Train-test split\n",
    "X_train, X_test, y_train, y_test = train_test_split(X_resampled, y_resampled, test_size=0.2, random_state=42, stratify=y_resampled)\n",
    "\n",
    "# Function to log results in MLflow\n",
    "def log_mlflow(model_name, model, X_train, X_test, y_train, y_test):\n",
    "    with mlflow.start_run():\n",
    "        # Log model type\n",
    "        mlflow.set_tag(\"mlflow.runName\", f\"{model_name}_SMOTE_TFIDF_Trigrams\")\n",
    "        mlflow.set_tag(\"experiment_type\", \"algorithm_comparison\")\n",
    "\n",
    "        # Log algorithm name as a parameter\n",
    "        mlflow.log_param(\"algo_name\", model_name)\n",
    "\n",
    "        # Train model\n",
    "        model.fit(X_train, y_train)\n",
    "        y_pred = model.predict(X_test)\n",
    "\n",
    "        # Log accuracy\n",
    "        accuracy = accuracy_score(y_test, y_pred)\n",
    "        mlflow.log_metric(\"accuracy\", accuracy)\n",
    "\n",
    "        # Log classification report\n",
    "        classification_rep = classification_report(y_test, y_pred, output_dict=True)\n",
    "        for label, metrics in classification_rep.items():\n",
    "            if isinstance(metrics, dict):\n",
    "                for metric, value in metrics.items():\n",
    "                    mlflow.log_metric(f\"{label}_{metric}\", value)\n",
    "\n",
    "        # Log the model\n",
    "        mlflow.sklearn.log_model(model, f\"{model_name}_model\")\n",
    "\n",
    "\n",
    "# Step 6: Optuna objective function for Logistic Regression\n",
    "def objective_logreg(trial):\n",
    "    C = trial.suggest_float('C', 1e-4, 10.0, log=True)\n",
    "    penalty = trial.suggest_categorical('penalty', ['l1', 'l2'])\n",
    "\n",
    "    # LogisticRegression model setup with balanced class weight\n",
    "    model = LogisticRegression(C=C, penalty=penalty, solver='liblinear', random_state=42)\n",
    "    return accuracy_score(y_test, model.fit(X_train, y_train).predict(X_test))\n",
    "\n",
    "\n",
    "# Step 7: Run Optuna for Logistic Regression, log the best model only\n",
    "def run_optuna_experiment():\n",
    "    study = optuna.create_study(direction=\"maximize\")\n",
    "    study.optimize(objective_logreg, n_trials=30)\n",
    "\n",
    "    # Get the best parameters and log only the best model\n",
    "    best_params = study.best_params\n",
    "    best_model = LogisticRegression(C=best_params['C'], penalty=best_params['penalty'], solver='liblinear', random_state=42)\n",
    "\n",
    "    # Log the best model with MLflow, passing the algo_name as \"LogisticRegression\"\n",
    "    log_mlflow(\"LogisticRegression\", best_model, X_train, X_test, y_train, y_test)\n",
    "\n",
    "# Run the experiment for Logistic Regression\n",
    "run_optuna_experiment()\n"
   ]
  },
  {
   "cell_type": "code",
   "execution_count": null,
   "metadata": {},
   "outputs": [],
   "source": []
  },
  {
   "cell_type": "code",
   "execution_count": null,
   "metadata": {},
   "outputs": [],
   "source": []
  }
 ],
 "metadata": {
  "kernelspec": {
   "display_name": "base",
   "language": "python",
   "name": "python3"
  },
  "language_info": {
   "codemirror_mode": {
    "name": "ipython",
    "version": 3
   },
   "file_extension": ".py",
   "mimetype": "text/x-python",
   "name": "python",
   "nbconvert_exporter": "python",
   "pygments_lexer": "ipython3",
   "version": "3.12.5"
  }
 },
 "nbformat": 4,
 "nbformat_minor": 2
}
