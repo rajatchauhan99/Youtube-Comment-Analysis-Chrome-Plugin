{
 "cells": [
  {
   "cell_type": "code",
   "execution_count": 1,
   "metadata": {},
   "outputs": [],
   "source": [
    "import pandas as pd\n",
    "import numpy as np"
   ]
  },
  {
   "cell_type": "code",
   "execution_count": 2,
   "metadata": {},
   "outputs": [
    {
     "data": {
      "text/html": [
       "<div>\n",
       "<style scoped>\n",
       "    .dataframe tbody tr th:only-of-type {\n",
       "        vertical-align: middle;\n",
       "    }\n",
       "\n",
       "    .dataframe tbody tr th {\n",
       "        vertical-align: top;\n",
       "    }\n",
       "\n",
       "    .dataframe thead th {\n",
       "        text-align: right;\n",
       "    }\n",
       "</style>\n",
       "<table border=\"1\" class=\"dataframe\">\n",
       "  <thead>\n",
       "    <tr style=\"text-align: right;\">\n",
       "      <th></th>\n",
       "      <th>Unnamed: 0</th>\n",
       "      <th>clean_comment</th>\n",
       "      <th>category</th>\n",
       "    </tr>\n",
       "  </thead>\n",
       "  <tbody>\n",
       "    <tr>\n",
       "      <th>0</th>\n",
       "      <td>0</td>\n",
       "      <td>family mormon never tried explain still stare ...</td>\n",
       "      <td>1</td>\n",
       "    </tr>\n",
       "    <tr>\n",
       "      <th>1</th>\n",
       "      <td>1</td>\n",
       "      <td>buddhism much lot compatible christianity espe...</td>\n",
       "      <td>1</td>\n",
       "    </tr>\n",
       "    <tr>\n",
       "      <th>2</th>\n",
       "      <td>2</td>\n",
       "      <td>seriously say thing first get complex explain ...</td>\n",
       "      <td>-1</td>\n",
       "    </tr>\n",
       "    <tr>\n",
       "      <th>3</th>\n",
       "      <td>3</td>\n",
       "      <td>learned want teach different focus goal not wr...</td>\n",
       "      <td>0</td>\n",
       "    </tr>\n",
       "    <tr>\n",
       "      <th>4</th>\n",
       "      <td>4</td>\n",
       "      <td>benefit may want read living buddha living chr...</td>\n",
       "      <td>1</td>\n",
       "    </tr>\n",
       "    <tr>\n",
       "      <th>...</th>\n",
       "      <td>...</td>\n",
       "      <td>...</td>\n",
       "      <td>...</td>\n",
       "    </tr>\n",
       "    <tr>\n",
       "      <th>36241</th>\n",
       "      <td>37243</td>\n",
       "      <td>agree push make nation either pity pakistan in...</td>\n",
       "      <td>-1</td>\n",
       "    </tr>\n",
       "    <tr>\n",
       "      <th>36242</th>\n",
       "      <td>37244</td>\n",
       "      <td>jesus</td>\n",
       "      <td>0</td>\n",
       "    </tr>\n",
       "    <tr>\n",
       "      <th>36243</th>\n",
       "      <td>37245</td>\n",
       "      <td>kya bhai pure saal chutiya banaya modi aur jab...</td>\n",
       "      <td>1</td>\n",
       "    </tr>\n",
       "    <tr>\n",
       "      <th>36244</th>\n",
       "      <td>37246</td>\n",
       "      <td>downvote karna tha par upvote hogaya</td>\n",
       "      <td>0</td>\n",
       "    </tr>\n",
       "    <tr>\n",
       "      <th>36245</th>\n",
       "      <td>37248</td>\n",
       "      <td>facebook working bjp cell</td>\n",
       "      <td>0</td>\n",
       "    </tr>\n",
       "  </tbody>\n",
       "</table>\n",
       "<p>36246 rows × 3 columns</p>\n",
       "</div>"
      ],
      "text/plain": [
       "       Unnamed: 0                                      clean_comment  category\n",
       "0               0  family mormon never tried explain still stare ...         1\n",
       "1               1  buddhism much lot compatible christianity espe...         1\n",
       "2               2  seriously say thing first get complex explain ...        -1\n",
       "3               3  learned want teach different focus goal not wr...         0\n",
       "4               4  benefit may want read living buddha living chr...         1\n",
       "...           ...                                                ...       ...\n",
       "36241       37243  agree push make nation either pity pakistan in...        -1\n",
       "36242       37244                                              jesus         0\n",
       "36243       37245  kya bhai pure saal chutiya banaya modi aur jab...         1\n",
       "36244       37246               downvote karna tha par upvote hogaya         0\n",
       "36245       37248                          facebook working bjp cell         0\n",
       "\n",
       "[36246 rows x 3 columns]"
      ]
     },
     "execution_count": 2,
     "metadata": {},
     "output_type": "execute_result"
    }
   ],
   "source": [
    "df = pd.read_csv(\"processed.csv\")\n",
    "df"
   ]
  },
  {
   "cell_type": "code",
   "execution_count": 3,
   "metadata": {},
   "outputs": [],
   "source": [
    "df.dropna(inplace=True)"
   ]
  },
  {
   "cell_type": "code",
   "execution_count": 4,
   "metadata": {},
   "outputs": [
    {
     "data": {
      "text/html": [
       "<pre style=\"white-space:pre;overflow-x:auto;line-height:normal;font-family:Menlo,'DejaVu Sans Mono',consolas,'Courier New',monospace\">Accessing as rajatchauhan99\n",
       "</pre>\n"
      ],
      "text/plain": [
       "Accessing as rajatchauhan99\n"
      ]
     },
     "metadata": {},
     "output_type": "display_data"
    },
    {
     "data": {
      "text/html": [
       "<pre style=\"white-space:pre;overflow-x:auto;line-height:normal;font-family:Menlo,'DejaVu Sans Mono',consolas,'Courier New',monospace\">Initialized MLflow to track repo <span style=\"color: #008000; text-decoration-color: #008000\">\"rajatchauhan99/Youtube-Comment-Analysis-Chrome-Plugin\"</span>\n",
       "</pre>\n"
      ],
      "text/plain": [
       "Initialized MLflow to track repo \u001b[32m\"rajatchauhan99/Youtube-Comment-Analysis-Chrome-Plugin\"\u001b[0m\n"
      ]
     },
     "metadata": {},
     "output_type": "display_data"
    },
    {
     "data": {
      "text/html": [
       "<pre style=\"white-space:pre;overflow-x:auto;line-height:normal;font-family:Menlo,'DejaVu Sans Mono',consolas,'Courier New',monospace\">Repository rajatchauhan99/Youtube-Comment-Analysis-Chrome-Plugin initialized!\n",
       "</pre>\n"
      ],
      "text/plain": [
       "Repository rajatchauhan99/Youtube-Comment-Analysis-Chrome-Plugin initialized!\n"
      ]
     },
     "metadata": {},
     "output_type": "display_data"
    }
   ],
   "source": [
    "import dagshub\n",
    "dagshub.init(repo_owner='rajatchauhan99', repo_name='Youtube-Comment-Analysis-Chrome-Plugin', mlflow=True)"
   ]
  },
  {
   "cell_type": "code",
   "execution_count": 5,
   "metadata": {},
   "outputs": [
    {
     "data": {
      "text/plain": [
       "<Experiment: artifact_location='mlflow-artifacts:/96c047f2f48c4d168382939725e408d8', creation_time=1729342817379, experiment_id='5', last_update_time=1729342817379, lifecycle_stage='active', name='Exp 5 - Trying Different ML Algos with HP Tuning', tags={}>"
      ]
     },
     "execution_count": 5,
     "metadata": {},
     "output_type": "execute_result"
    }
   ],
   "source": [
    "# Set or create an experiment\n",
    "import mlflow\n",
    "mlflow.set_experiment(\"Exp 5 - Trying Different ML Algos with HP Tuning\")"
   ]
  },
  {
   "cell_type": "code",
   "execution_count": 6,
   "metadata": {},
   "outputs": [
    {
     "name": "stderr",
     "output_type": "stream",
     "text": [
      "c:\\Users\\rajat.chauhan\\conda\\Lib\\site-packages\\tqdm\\auto.py:21: TqdmWarning: IProgress not found. Please update jupyter and ipywidgets. See https://ipywidgets.readthedocs.io/en/stable/user_install.html\n",
      "  from .autonotebook import tqdm as notebook_tqdm\n"
     ]
    }
   ],
   "source": [
    "import optuna\n",
    "import mlflow\n",
    "import mlflow.sklearn\n",
    "from sklearn.model_selection import train_test_split\n",
    "from sklearn.metrics import accuracy_score, classification_report\n",
    "from sklearn.feature_extraction.text import TfidfVectorizer\n",
    "from sklearn.linear_model import LogisticRegression\n",
    "from sklearn.svm import SVC\n",
    "from xgboost import XGBClassifier\n",
    "from lightgbm import LGBMClassifier\n",
    "from sklearn.neighbors import KNeighborsClassifier\n",
    "from sklearn.naive_bayes import MultinomialNB\n",
    "from sklearn.ensemble import RandomForestClassifier\n",
    "from imblearn.over_sampling import SMOTE\n",
    "import matplotlib.pyplot as plt\n",
    "import seaborn as sns\n",
    "import pandas as pd"
   ]
  },
  {
   "cell_type": "code",
   "execution_count": 7,
   "metadata": {},
   "outputs": [
    {
     "name": "stderr",
     "output_type": "stream",
     "text": [
      "[I 2024-10-19 18:42:01,455] A new study created in memory with name: no-name-ee6e5b46-4368-42fc-bd28-cd27270c417c\n",
      "[I 2024-10-19 18:42:30,016] Trial 0 finished with value: 0.5661702127659575 and parameters: {'n_neighbors': 8, 'p': 2}. Best is trial 0 with value: 0.5661702127659575.\n",
      "[I 2024-10-19 18:43:02,640] Trial 1 finished with value: 0.5328723404255319 and parameters: {'n_neighbors': 24, 'p': 2}. Best is trial 0 with value: 0.5661702127659575.\n",
      "[I 2024-10-19 18:43:33,974] Trial 2 finished with value: 0.5274468085106383 and parameters: {'n_neighbors': 26, 'p': 2}. Best is trial 0 with value: 0.5661702127659575.\n",
      "[I 2024-10-19 18:44:01,014] Trial 3 finished with value: 0.5472340425531915 and parameters: {'n_neighbors': 17, 'p': 2}. Best is trial 0 with value: 0.5661702127659575.\n",
      "[I 2024-10-19 18:44:09,371] Trial 4 finished with value: 0.37840425531914895 and parameters: {'n_neighbors': 13, 'p': 1}. Best is trial 0 with value: 0.5661702127659575.\n",
      "[I 2024-10-19 18:44:16,947] Trial 5 finished with value: 0.3853191489361702 and parameters: {'n_neighbors': 8, 'p': 1}. Best is trial 0 with value: 0.5661702127659575.\n",
      "[I 2024-10-19 18:44:24,622] Trial 6 finished with value: 0.37159574468085105 and parameters: {'n_neighbors': 26, 'p': 1}. Best is trial 0 with value: 0.5661702127659575.\n",
      "[I 2024-10-19 18:44:48,447] Trial 7 finished with value: 0.5196808510638298 and parameters: {'n_neighbors': 28, 'p': 2}. Best is trial 0 with value: 0.5661702127659575.\n",
      "[I 2024-10-19 18:45:17,609] Trial 8 finished with value: 0.5764893617021276 and parameters: {'n_neighbors': 5, 'p': 2}. Best is trial 8 with value: 0.5764893617021276.\n",
      "[I 2024-10-19 18:45:48,584] Trial 9 finished with value: 0.516595744680851 and parameters: {'n_neighbors': 30, 'p': 2}. Best is trial 8 with value: 0.5764893617021276.\n",
      "[I 2024-10-19 18:45:57,345] Trial 10 finished with value: 0.3929787234042553 and parameters: {'n_neighbors': 5, 'p': 1}. Best is trial 8 with value: 0.5764893617021276.\n",
      "[I 2024-10-19 18:46:25,052] Trial 11 finished with value: 0.5874468085106384 and parameters: {'n_neighbors': 3, 'p': 2}. Best is trial 11 with value: 0.5874468085106384.\n",
      "[I 2024-10-19 18:46:34,582] Trial 12 finished with value: 0.5874468085106384 and parameters: {'n_neighbors': 3, 'p': 2}. Best is trial 11 with value: 0.5874468085106384.\n",
      "[I 2024-10-19 18:46:50,754] Trial 13 finished with value: 0.5874468085106384 and parameters: {'n_neighbors': 3, 'p': 2}. Best is trial 11 with value: 0.5874468085106384.\n",
      "[I 2024-10-19 18:47:23,520] Trial 14 finished with value: 0.555531914893617 and parameters: {'n_neighbors': 13, 'p': 2}. Best is trial 11 with value: 0.5874468085106384.\n",
      "[I 2024-10-19 18:47:55,896] Trial 15 finished with value: 0.543936170212766 and parameters: {'n_neighbors': 20, 'p': 2}. Best is trial 11 with value: 0.5874468085106384.\n",
      "[I 2024-10-19 18:48:26,555] Trial 16 finished with value: 0.5627659574468085 and parameters: {'n_neighbors': 10, 'p': 2}. Best is trial 11 with value: 0.5874468085106384.\n",
      "[I 2024-10-19 18:48:53,454] Trial 17 finished with value: 0.5813829787234043 and parameters: {'n_neighbors': 4, 'p': 2}. Best is trial 11 with value: 0.5874468085106384.\n",
      "[I 2024-10-19 18:49:00,987] Trial 18 finished with value: 0.3824468085106383 and parameters: {'n_neighbors': 11, 'p': 1}. Best is trial 11 with value: 0.5874468085106384.\n",
      "[I 2024-10-19 18:49:25,767] Trial 19 finished with value: 0.5695744680851064 and parameters: {'n_neighbors': 7, 'p': 2}. Best is trial 11 with value: 0.5874468085106384.\n",
      "[I 2024-10-19 18:49:53,718] Trial 20 finished with value: 0.5455319148936171 and parameters: {'n_neighbors': 18, 'p': 2}. Best is trial 11 with value: 0.5874468085106384.\n",
      "[I 2024-10-19 18:50:19,895] Trial 21 finished with value: 0.5874468085106384 and parameters: {'n_neighbors': 3, 'p': 2}. Best is trial 11 with value: 0.5874468085106384.\n",
      "[I 2024-10-19 18:50:45,527] Trial 22 finished with value: 0.5874468085106384 and parameters: {'n_neighbors': 3, 'p': 2}. Best is trial 11 with value: 0.5874468085106384.\n",
      "[I 2024-10-19 18:51:14,101] Trial 23 finished with value: 0.5726595744680851 and parameters: {'n_neighbors': 6, 'p': 2}. Best is trial 11 with value: 0.5874468085106384.\n",
      "[I 2024-10-19 18:51:42,588] Trial 24 finished with value: 0.5627659574468085 and parameters: {'n_neighbors': 10, 'p': 2}. Best is trial 11 with value: 0.5874468085106384.\n",
      "[I 2024-10-19 18:52:09,295] Trial 25 finished with value: 0.5531914893617021 and parameters: {'n_neighbors': 14, 'p': 2}. Best is trial 11 with value: 0.5874468085106384.\n",
      "[I 2024-10-19 18:52:16,890] Trial 26 finished with value: 0.4045744680851064 and parameters: {'n_neighbors': 3, 'p': 1}. Best is trial 11 with value: 0.5874468085106384.\n",
      "[I 2024-10-19 18:52:44,155] Trial 27 finished with value: 0.5695744680851064 and parameters: {'n_neighbors': 7, 'p': 2}. Best is trial 11 with value: 0.5874468085106384.\n",
      "[I 2024-10-19 18:53:11,954] Trial 28 finished with value: 0.543936170212766 and parameters: {'n_neighbors': 20, 'p': 2}. Best is trial 11 with value: 0.5874468085106384.\n",
      "[I 2024-10-19 18:53:40,090] Trial 29 finished with value: 0.563404255319149 and parameters: {'n_neighbors': 9, 'p': 2}. Best is trial 11 with value: 0.5874468085106384.\n",
      "2024/10/19 18:54:45 WARNING mlflow.models.model: Model logged without a signature and input example. Please set `input_example` parameter when logging the model to auto infer the model signature.\n",
      "2024/10/19 18:55:10 INFO mlflow.tracking._tracking_service.client: 🏃 View run KNN_SMOTE_TFIDF_Trigrams at: https://dagshub.com/rajatchauhan99/Youtube-Comment-Analysis-Chrome-Plugin.mlflow/#/experiments/5/runs/9a427e5030ef4429af999be89e3d9532.\n",
      "2024/10/19 18:55:10 INFO mlflow.tracking._tracking_service.client: 🧪 View experiment at: https://dagshub.com/rajatchauhan99/Youtube-Comment-Analysis-Chrome-Plugin.mlflow/#/experiments/5.\n"
     ]
    }
   ],
   "source": [
    "# Step 1: (Optional) Remapping - skipped since not strictly needed for KNN\n",
    "\n",
    "# Step 2: Remove rows where the target labels (category) are NaN\n",
    "df = df.dropna(subset=['category'])\n",
    "\n",
    "# Step 3: TF-IDF vectorizer setup\n",
    "ngram_range = (1, 3)  # Trigram\n",
    "max_features = 1000  # Set max_features to 1000\n",
    "vectorizer = TfidfVectorizer(ngram_range=ngram_range, max_features=max_features)\n",
    "X = vectorizer.fit_transform(df['clean_comment'])\n",
    "y = df['category']\n",
    "\n",
    "# Step 4: Apply SMOTE to handle class imbalance\n",
    "smote = SMOTE(random_state=42)\n",
    "X_resampled, y_resampled = smote.fit_resample(X, y)\n",
    "\n",
    "# Step 5: Train-test split\n",
    "X_train, X_test, y_train, y_test = train_test_split(X_resampled, y_resampled, test_size=0.2, random_state=42, stratify=y_resampled)\n",
    "\n",
    "# Function to log results in MLflow\n",
    "def log_mlflow(model_name, model, X_train, X_test, y_train, y_test):\n",
    "    with mlflow.start_run():\n",
    "        # Log model type\n",
    "        mlflow.set_tag(\"mlflow.runName\", f\"{model_name}_SMOTE_TFIDF_Trigrams\")\n",
    "        mlflow.set_tag(\"experiment_type\", \"algorithm_comparison\")\n",
    "\n",
    "        # Log algorithm name as a parameter\n",
    "        mlflow.log_param(\"algo_name\", model_name)\n",
    "\n",
    "        # Train model\n",
    "        model.fit(X_train, y_train)\n",
    "        y_pred = model.predict(X_test)\n",
    "\n",
    "        # Log accuracy\n",
    "        accuracy = accuracy_score(y_test, y_pred)\n",
    "        mlflow.log_metric(\"accuracy\", accuracy)\n",
    "\n",
    "        # Log classification report\n",
    "        classification_rep = classification_report(y_test, y_pred, output_dict=True)\n",
    "        for label, metrics in classification_rep.items():\n",
    "            if isinstance(metrics, dict):\n",
    "                for metric, value in metrics.items():\n",
    "                    mlflow.log_metric(f\"{label}_{metric}\", value)\n",
    "\n",
    "        # Log the model\n",
    "        mlflow.sklearn.log_model(model, f\"{model_name}_model\")\n",
    "\n",
    "\n",
    "# Step 6: Optuna objective function for KNN\n",
    "def objective_knn(trial):\n",
    "    n_neighbors = trial.suggest_int('n_neighbors', 3, 30)  # Tuning the number of neighbors\n",
    "    p = trial.suggest_categorical('p', [1, 2])  # Tuning the distance metric (1 for Manhattan, 2 for Euclidean)\n",
    "\n",
    "    # KNeighborsClassifier setup\n",
    "    model = KNeighborsClassifier(n_neighbors=n_neighbors, p=p)\n",
    "    return accuracy_score(y_test, model.fit(X_train, y_train).predict(X_test))\n",
    "\n",
    "\n",
    "# Step 7: Run Optuna for KNN, log the best model only\n",
    "def run_optuna_experiment():\n",
    "    study = optuna.create_study(direction=\"maximize\")\n",
    "    study.optimize(objective_knn, n_trials=30)\n",
    "\n",
    "    # Get the best parameters and log only the best model\n",
    "    best_params = study.best_params\n",
    "    best_model = KNeighborsClassifier(n_neighbors=best_params['n_neighbors'], p=best_params['p'])\n",
    "\n",
    "    # Log the best model with MLflow, passing the algo_name as \"KNN\"\n",
    "    log_mlflow(\"KNN\", best_model, X_train, X_test, y_train, y_test)\n",
    "\n",
    "# Run the experiment for KNN\n",
    "run_optuna_experiment()\n"
   ]
  },
  {
   "cell_type": "code",
   "execution_count": null,
   "metadata": {},
   "outputs": [],
   "source": []
  },
  {
   "cell_type": "code",
   "execution_count": null,
   "metadata": {},
   "outputs": [],
   "source": []
  }
 ],
 "metadata": {
  "kernelspec": {
   "display_name": "base",
   "language": "python",
   "name": "python3"
  },
  "language_info": {
   "codemirror_mode": {
    "name": "ipython",
    "version": 3
   },
   "file_extension": ".py",
   "mimetype": "text/x-python",
   "name": "python",
   "nbconvert_exporter": "python",
   "pygments_lexer": "ipython3",
   "version": "3.12.5"
  }
 },
 "nbformat": 4,
 "nbformat_minor": 2
}
